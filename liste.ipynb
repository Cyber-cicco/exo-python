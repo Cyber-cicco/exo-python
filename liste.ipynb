{
 "cells": [
  {
   "cell_type": "markdown",
   "id": "c77d524b",
   "metadata": {},
   "source": [
    "### Les listes"
   ]
  },
  {
   "cell_type": "markdown",
   "id": "2019e384",
   "metadata": {},
   "source": [
    "Une liste est une variable de type list qui a pour particularité de contenir un ensemble de valeurs, contrairement aux variables vues plus haut qui contenaient une seule valeur chacune."
   ]
  },
  {
   "cell_type": "code",
   "execution_count": null,
   "id": "d9c80948",
   "metadata": {},
   "outputs": [],
   "source": [
    "my_list = [1, 2, 3, 4]\n",
    "my_list"
   ]
  },
  {
   "cell_type": "code",
   "execution_count": null,
   "id": "5299c0c6",
   "metadata": {},
   "outputs": [],
   "source": [
    "type(my_list)"
   ]
  },
  {
   "cell_type": "markdown",
   "id": "5d3a866e",
   "metadata": {},
   "source": [
    "Il est possible de mélanger les types de valeurs au sein d'une même liste :"
   ]
  },
  {
   "cell_type": "code",
   "execution_count": null,
   "id": "68ee828f",
   "metadata": {},
   "outputs": [],
   "source": [
    "my_list = ['a', 2, 'c', 4]  # Cette liste contient des str et des int\n",
    "my_list"
   ]
  },
  {
   "cell_type": "markdown",
   "id": "431d6c14",
   "metadata": {},
   "source": [
    "Il existe plusieurs moyens d'accéder aux éléments d'une liste. L'accès direct se fait via des crochets `[]` au sein desquels nous précisions l'index de l'élèment auquel on souhaite accéder.\n",
    "\n",
    "<span style=\"color: red\">/!\\ l'indexation en Python commence à 0, comme dans de nombreux langages.</span>"
   ]
  },
  {
   "cell_type": "code",
   "execution_count": null,
   "id": "9e82b68c",
   "metadata": {},
   "outputs": [],
   "source": [
    "my_list = [1, 2, 3, 4]\n",
    "my_list[0]  # accès à l'élément \"0\" de la liste (correspond donc au premier élément)"
   ]
  },
  {
   "cell_type": "code",
   "execution_count": null,
   "id": "84ed8611",
   "metadata": {},
   "outputs": [],
   "source": [
    "my_list[1]  # accès à l'élément \"1\" de la liste (donc le deuxième élément)"
   ]
  },
  {
   "cell_type": "markdown",
   "id": "f2153fd7",
   "metadata": {},
   "source": [
    "Il est possible d'accéder aux éléments de la liste par la fin :"
   ]
  },
  {
   "cell_type": "code",
   "execution_count": null,
   "id": "fcd2054f",
   "metadata": {},
   "outputs": [],
   "source": [
    "my_list[-1]  # accès au dernier élément"
   ]
  },
  {
   "cell_type": "code",
   "execution_count": null,
   "id": "189216e3",
   "metadata": {},
   "outputs": [],
   "source": [
    "my_list[-2]  # accès à l'avant dernier élément"
   ]
  },
  {
   "cell_type": "markdown",
   "id": "49e1880b",
   "metadata": {},
   "source": [
    "#### Slicing\n",
    "Il est possible d'accéder à plusieurs éléments de la liste en même temps : il s'agit donc d'un sous-ensemble (\"slice\") de la liste. On parle de **slicing**.\n",
    "\n",
    "<span style=\"color: red\">/!\\ Le deuxième nombre du slicing n'est pas inclus dans le slice renvoyé.</span>"
   ]
  },
  {
   "cell_type": "code",
   "execution_count": null,
   "id": "ac8f816e",
   "metadata": {},
   "outputs": [],
   "source": [
    "my_list[0:2]  # les éléments de ma liste entre l'index 0 (inclus) et 2 (non inclus)"
   ]
  },
  {
   "cell_type": "code",
   "execution_count": null,
   "id": "2290b785",
   "metadata": {},
   "outputs": [],
   "source": [
    "my_list[0:3]  # entre 0 et 3 (non inclus)"
   ]
  },
  {
   "cell_type": "code",
   "execution_count": null,
   "id": "10368661",
   "metadata": {},
   "outputs": [],
   "source": [
    "my_list[:3]  # du début à 3 (non inclus)"
   ]
  },
  {
   "cell_type": "code",
   "execution_count": null,
   "id": "b964d5c6",
   "metadata": {},
   "outputs": [],
   "source": [
    "my_list[1:]  # entre 1 et la fin (dernier inclus)"
   ]
  },
  {
   "cell_type": "markdown",
   "id": "c2c8f689",
   "metadata": {},
   "source": [
    "Pour modifier une liste, on peut : \n",
    "- Modifier un élément"
   ]
  },
  {
   "cell_type": "code",
   "execution_count": null,
   "id": "5d75a3ee",
   "metadata": {},
   "outputs": [],
   "source": [
    "my_list = [1, 2, 3, 4, 5, 6, 7, 8, 9, 10]\n",
    "my_list"
   ]
  },
  {
   "cell_type": "code",
   "execution_count": null,
   "id": "63ca1f60",
   "metadata": {},
   "outputs": [],
   "source": [
    "my_list[5] = 100  # modification de l'élément à l'index 5\n",
    "my_list"
   ]
  },
  {
   "cell_type": "code",
   "execution_count": null,
   "id": "ab685506",
   "metadata": {},
   "outputs": [],
   "source": [
    "my_list[4:6] = [100, 100, 100]  # modification de la slice [4:6]\n",
    "my_list"
   ]
  },
  {
   "cell_type": "markdown",
   "id": "109b7330",
   "metadata": {},
   "source": [
    "- Supprimer un élément"
   ]
  },
  {
   "cell_type": "code",
   "execution_count": null,
   "id": "e1c3d47d",
   "metadata": {},
   "outputs": [],
   "source": [
    "del(my_list[2])\n",
    "my_list"
   ]
  },
  {
   "cell_type": "markdown",
   "id": "14ba1b58",
   "metadata": {},
   "source": [
    "- Obtenir la longueur d'une liste"
   ]
  },
  {
   "cell_type": "code",
   "execution_count": null,
   "id": "99f9d398",
   "metadata": {},
   "outputs": [],
   "source": [
    "len(my_list)"
   ]
  },
  {
   "cell_type": "markdown",
   "id": "7d1e24ef",
   "metadata": {},
   "source": [
    "Vous pouvez ajouter un élément à une liste avec methode .append(<nom_de_element>)"
   ]
  },
  {
   "cell_type": "code",
   "execution_count": null,
   "id": "b942d960",
   "metadata": {},
   "outputs": [],
   "source": [
    "new_element = 'Nouvel élément'\n",
    "my_list.append(new_element)\n",
    "print(my_list)"
   ]
  },
  {
   "cell_type": "markdown",
   "id": "55c354e9",
   "metadata": {},
   "source": [
    "### Les tuples"
   ]
  },
  {
   "cell_type": "markdown",
   "id": "f7f88911",
   "metadata": {},
   "source": [
    "Un tuple est une collection ordonnée et immuable, ce qui signifie que les éléments sont stockés dans un ordre précis et ne peuvent pas être modifiés une fois le tuple créé. Les tuples sont définis à l'aide de parenthèses () et peuvent contenir des éléments de types différents."
   ]
  },
  {
   "cell_type": "code",
   "execution_count": null,
   "id": "1db6ed97",
   "metadata": {},
   "outputs": [],
   "source": [
    "# Création d'un tuple\n",
    "mon_tuple = (1, 2, 3, \"quatre\", 5.0)\n",
    "\n",
    "# Accéder aux éléments\n",
    "premier_element = mon_tuple[0]  # 1\n",
    "dernier_element = mon_tuple[-1]  # 5.0\n",
    "\n",
    "# Longueur du tuple\n",
    "longueur = len(mon_tuple)  # 5\n",
    "\n",
    "# Comptage d'un élément spécifique\n",
    "nombre_de_deux = mon_tuple.count(2)  # 1\n",
    "\n",
    "# Obtenir l'index d'un élément\n",
    "index_de_quatre = mon_tuple.index(\"quatre\")  # 3\n",
    "\n",
    "# Tentative de modification (provoquera une erreur)\n",
    "# mon_tuple[0] = 10  # Erreur, les tuples sont immuables"
   ]
  },
  {
   "cell_type": "markdown",
   "id": "5aa11323",
   "metadata": {},
   "source": [
    "### Les sets"
   ]
  },
  {
   "cell_type": "markdown",
   "id": "e21bc7e5",
   "metadata": {},
   "source": [
    "Un set est une collection non ordonnée d'éléments uniques. Contrairement aux tuples, les sets ne conservent pas l'ordre des éléments et éliminent automatiquement les doublons. Ils sont définis à l'aide d'accolades {} ou avec la fonction set()."
   ]
  },
  {
   "cell_type": "code",
   "execution_count": null,
   "id": "7e6eb77e",
   "metadata": {},
   "outputs": [],
   "source": [
    "# Création d'un set\n",
    "mon_set = {1, 2, 3, 4, 5}\n",
    "\n",
    "# Ajout d'un élément\n",
    "mon_set.add(6)  # mon_set devient {1, 2, 3, 4, 5, 6}\n",
    "\n",
    "# Suppression d'un élément\n",
    "mon_set.remove(3)  # mon_set devient {1, 2, 4, 5, 6}\n",
    "\n",
    "# Vérifier la présence d'un élément\n",
    "est_present = 4 in mon_set  # True\n",
    "\n",
    "# Union de deux sets\n",
    "autre_set = {5, 6, 7, 8}\n",
    "union_set = mon_set.union(autre_set)  # {1, 2, 4, 5, 6, 7, 8}\n",
    "\n",
    "# Intersection de deux sets\n",
    "intersection_set = mon_set.intersection(autre_set)  # {5, 6}\n",
    "\n",
    "# Différence entre deux sets\n",
    "difference_set = mon_set.difference(autre_set)  # {1, 2, 4}"
   ]
  },
  {
   "cell_type": "markdown",
   "id": "2988807f",
   "metadata": {},
   "source": [
    "### Comparaison et synthèse"
   ]
  },
  {
   "cell_type": "markdown",
   "id": "a35cc25e",
   "metadata": {},
   "source": [
    "### Similitudes\n",
    "\n",
    "1. **Collections de données** :\n",
    "   - Les listes, tuples et sets permettent tous de stocker plusieurs éléments. Chaque élément peut être de n'importe quel type (entiers, chaînes, objets, etc.).\n",
    "\n",
    "2. **Types hétérogènes** :\n",
    "   - Ils peuvent contenir des éléments de différents types de données dans une seule collection, comme des entiers, des chaînes, et des objets.\n",
    "\n",
    "3. **Fonctions et méthodes communes** :\n",
    "   - Les trois types peuvent être parcourus avec des boucles `for`, être utilisés avec des fonctions intégrées comme `len()`, et peuvent être convertis d'un type à un autre (par exemple, convertir une liste en set avec `set(liste)`).\n",
    "\n",
    "### Différences\n",
    "\n",
    "| Caractéristique             | **List**                     | **Tuple**                     | **Set**                       |\n",
    "|-----------------------------|------------------------------|-------------------------------|-------------------------------|\n",
    "| **Définition**              | `[]` ou `list()`             | `()` ou `tuple()`             | `{}` ou `set()`               |\n",
    "| **Mutabilité**              | Mutable (modifiable)         | Immuable (non modifiable)     | Mutable (modifiable)          |\n",
    "| **Ordre**                   | Ordonnée                     | Ordonnée                      | Non ordonnée                  |\n",
    "| **Doublons**                | Autorisés                    | Autorisés                     | Non autorisés                 |\n",
    "| **Indexation**              | Oui                          | Oui                           | Non                           |\n",
    "| **Accès aux éléments**      | Par index (`ma_liste[0]`)    | Par index (`mon_tuple[0]`)    | Par itération                 |\n",
    "| **Utilisation typique**     | Séquence modifiable          | Séquence fixe/constante       | Opérations d'ensemble         |\n",
    "| **Méthodes spécifiques**    | `append()`, `extend()`, etc. | `count()`, `index()`          | `add()`, `remove()`, etc.     |\n",
    "\n",
    "### Détails sur chaque caractéristique\n",
    "\n",
    "1. **Mutabilité** :\n",
    "   - Les **listes** sont modifiables, ce qui signifie qu'on peut ajouter, supprimer ou modifier les éléments après leur création.\n",
    "   - Les **tuples** sont immuables, donc une fois créés, les éléments ne peuvent pas être modifiés.\n",
    "   - Les **sets** sont modifiables, mais comme ils ne sont pas ordonnés, les éléments ne peuvent pas être accessibles par index.\n",
    "\n",
    "2. **Ordre** :\n",
    "   - Les **listes** et les **tuples** conservent l'ordre d'insertion, permettant l'accès aux éléments par leur position.\n",
    "   - Les **sets** ne garantissent pas l'ordre, les éléments peuvent donc apparaître dans un ordre aléatoire lors de l'itération.\n",
    "\n",
    "3. **Doublons** :\n",
    "   - Les **listes** et les **tuples** peuvent contenir des éléments en double.\n",
    "   - Les **sets** ne peuvent contenir que des éléments uniques, les doublons sont automatiquement éliminés lors de l'ajout.\n",
    "\n",
    "4. **Indexation et accès aux éléments** :\n",
    "   - Les **listes** et les **tuples** permettent un accès aux éléments par index (par exemple, `ma_liste[0]` ou `mon_tuple[1]`).\n",
    "   - Les **sets**, étant non ordonnés, ne prennent pas en charge l'indexation directe.\n",
    "\n",
    "### Utilisations typiques\n",
    "\n",
    "- **Listes** : Idéales pour les collections de données qui peuvent changer au cours de l'exécution du programme (ajout, suppression ou modification d'éléments).\n",
    "- **Tuples** : Utilisés pour les données qui ne doivent pas changer, comme les coordonnées d'un point ou les éléments d'une clé dans un dictionnaire.\n",
    "- **Sets** : Parfaits pour les opérations d'ensemble comme l'union, l'intersection et la différence, ou pour tester l'appartenance rapide à un ensemble d'éléments uniques.\n",
    "\n",
    "Ces caractéristiques et différences font que chaque type a des utilisations spécifiques en fonction des besoins de manipulation des données dans un programme.\n"
   ]
  },
  {
   "cell_type": "markdown",
   "id": "1af4113d",
   "metadata": {},
   "source": [
    "#### <span style=\"color: green\">Exercice sur les listes</span>"
   ]
  },
  {
   "cell_type": "markdown",
   "id": "97b91968",
   "metadata": {},
   "source": [
    "Utilisez une liste pour stocker manuellement les notes de musique de base (do, ré, mi, fa, sol, la, si).\n",
    "Utilisez la fonction print() pour afficher :\n",
    "\n",
    "- la troisième note\n",
    "- la dernière note\n",
    "- les quatrième, cinquième, et sixième notes\n",
    "- toutes les notes sauf la première\n",
    "\n",
    "Conseil : n'oubliez pas que l'indexation des listes commence à 0, et que la valeur supérieure des slicing est exclue."
   ]
  },
  {
   "cell_type": "code",
   "execution_count": null,
   "id": "d07a7306",
   "metadata": {},
   "outputs": [],
   "source": [
    "# votre code ici"
   ]
  }
 ],
 "metadata": {
  "kernelspec": {
   "display_name": "Python 3 (ipykernel)",
   "language": "python",
   "name": "python3"
  },
  "language_info": {
   "codemirror_mode": {
    "name": "ipython",
    "version": 3
   },
   "file_extension": ".py",
   "mimetype": "text/x-python",
   "name": "python",
   "nbconvert_exporter": "python",
   "pygments_lexer": "ipython3",
   "version": "3.8.10"
  },
  "vscode": {
   "interpreter": {
    "hash": "369f2c481f4da34e4445cda3fffd2e751bd1c4d706f27375911949ba6bb62e1c"
   }
  }
 },
 "nbformat": 4,
 "nbformat_minor": 5
}
