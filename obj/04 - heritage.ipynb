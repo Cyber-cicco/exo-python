{
 "cells": [
  {
   "cell_type": "markdown",
   "id": "f37a5fd3",
   "metadata": {},
   "source": [
    "# Programmation orientée objet (POO) en python"
   ]
  },
  {
   "cell_type": "markdown",
   "id": "afec144a",
   "metadata": {},
   "source": [
    "## La notion d'héritage"
   ]
  },
  {
   "cell_type": "markdown",
   "id": "747976f3",
   "metadata": {},
   "source": [
    "L'héritage est un concept clé en programmation orientée objet (POO) qui permet à une classe de **hériter des attributs et méthodes d'une autre classe**.\n",
    "\n",
    "L'héritage permet de créer des structures de code plus propres et plus modulaires en partageant des comportements entre classes.\n",
    "\n",
    "Il favorise également le principe DRY (Don't Repeat Yourself) en permettant la réutilisation de code.\n",
    "\n",
    "En Python, l'héritage permet de créer une hiérarchie de classes, rendant le code **plus réutilisable et organisé**. Voici comment cela fonctionne :\n",
    "\n",
    "**Base de l'héritage**\n",
    "\n",
    "- Classe de base (ou parente) : La classe dont les attributs et méthodes sont hérités.\n",
    "\n",
    "- Classe dérivée (ou enfant) : La classe qui hérite de la classe de base.\n",
    "\n",
    "**Syntaxe de base**\n",
    "\n",
    "Pour définir une classe qui hérite d'une autre classe en Python, vous ajoutez le nom de la classe parente entre parenthèses après le nom de la classe enfant :"
   ]
  },
  {
   "cell_type": "code",
   "execution_count": null,
   "id": "41e0f971",
   "metadata": {},
   "outputs": [],
   "source": [
    "class ClasseBase:\n",
    "    pass\n",
    "\n",
    "class ClasseDerivee(ClasseBase):\n",
    "    pass"
   ]
  },
  {
   "cell_type": "markdown",
   "id": "62cc9e3c",
   "metadata": {},
   "source": [
    "### Exemple d'héritage\n",
    "\n",
    "Imaginons que nous avons **une classe de base Voiture** et que nous voulons créer **une classe spécialisée VoitureElectrique** qui hérite de Voiture."
   ]
  },
  {
   "cell_type": "code",
   "execution_count": null,
   "id": "5dc6faf4",
   "metadata": {},
   "outputs": [],
   "source": [
    "# Classe de base\n",
    "class Voiture:\n",
    "    def __init__(self, marque, modele):\n",
    "        self.marque = marque\n",
    "        self.modele = modele\n",
    "\n",
    "    def afficher(self):\n",
    "        print(f\"Voiture {self.marque} {self.modele}\")\n",
    "\n",
    "# Classe dérivée\n",
    "class VoitureElectrique(Voiture):\n",
    "    def __init__(self, marque, modele, autonomie):\n",
    "        super().__init__(marque, modele)  # Appel du constructeur de la classe parente\n",
    "        self.autonomie = autonomie\n",
    "\n",
    "    def afficher_autonomie(self):\n",
    "        print(f\"Autonomie : {self.autonomie} km\")"
   ]
  },
  {
   "cell_type": "markdown",
   "id": "370a6161",
   "metadata": {},
   "source": [
    "Dans cet exemple, VoitureElectrique hérite de Voiture et possède donc tous ses attributs et méthodes.\n",
    "\n",
    "La méthode super().__init__(marque, modele) est utilisée pour appeler le constructeur de la classe parente, permettant à VoitureElectrique de s'initialiser avec les mêmes attributs que Voiture, en plus de ses propres attributs spécifiques."
   ]
  },
  {
   "cell_type": "code",
   "execution_count": null,
   "id": "b6db06ee",
   "metadata": {},
   "outputs": [],
   "source": [
    "# Création d'une instance de VoitureElectrique\n",
    "ma_voiture_elec = VoitureElectrique(\"Tesla\", \"Model S\", 600)\n",
    "\n",
    "# Appel des attributs hérités\n",
    "print(ma_voiture_elec.marque)\n",
    "print(ma_voiture_elec.modele)\n",
    "\n",
    "# Appel des méthodes\n",
    "ma_voiture_elec.afficher()  # Héritée de Voiture (je n'ai pas eu à redéfinir le méthode)\n",
    "ma_voiture_elec.afficher_autonomie()  # Propre à VoitureElectrique"
   ]
  },
  {
   "cell_type": "markdown",
   "id": "743da3b0",
   "metadata": {},
   "source": [
    "### Surharge de méthode et/ou d'attribut"
   ]
  },
  {
   "cell_type": "markdown",
   "id": "101cea32",
   "metadata": {},
   "source": [
    "La classe dérivée peut également surcharger les méthodes de la classe de base ou les attributs de base pour modifier leur comportement.\n",
    "\n",
    "Si VoitureElectrique a sa propre méthode afficher(), elle remplacera celle de Voiture lorsqu'elle est appelée sur une instance de VoitureElectrique.\n",
    "\n",
    "Modifions notre classe VoitureElectrique pour surcharger la méthode afficher."
   ]
  },
  {
   "cell_type": "code",
   "execution_count": null,
   "id": "e7bfbb01",
   "metadata": {},
   "outputs": [],
   "source": [
    "class VoitureElectrique(Voiture):\n",
    "    \n",
    "    def __init__(self, marque, modele, autonomie):\n",
    "        super().__init__(marque, modele)\n",
    "        self.autonomie = autonomie\n",
    "        self.marque = marque+marque\n",
    "\n",
    "    def afficher(self):\n",
    "        new_text = f\"Surcharge de méthode. J'affiche seulement la marque de la voiture: {self.marque}\"\n",
    "        return print(new_text)\n",
    "\n",
    "    def afficher_autonomie(self):\n",
    "        print(f\"Autonomie : {self.autonomie} km\")"
   ]
  },
  {
   "cell_type": "code",
   "execution_count": null,
   "id": "eef42ca1",
   "metadata": {},
   "outputs": [],
   "source": [
    "ma_voiture_elec = VoitureElectrique(\"Tesla\", \"Model S\", 600)\n",
    "\n",
    "print(ma_voiture_elec.marque) # surcharge d'attribut\n",
    "ma_voiture_elec.afficher()  # Surchargée de Voiture, je dois maintenant avoir le message que j'ai définis dans la class VoitureElctrique"
   ]
  },
  {
   "cell_type": "markdown",
   "id": "0330bb01",
   "metadata": {},
   "source": [
    "#### <span style=\"color: green\">Exercice sur l'heritage des classes</span>"
   ]
  },
  {
   "cell_type": "markdown",
   "id": "df547e31",
   "metadata": {},
   "source": [
    "Vous êtes chargé de développer un système simple pour gérer différents types de comptes bancaires dans une banque.\n",
    "\n",
    "La banque propose deux types de comptes : un compte épargne qui génère des intérêts et un compte courant qui permet des découverts."
   ]
  },
  {
   "cell_type": "markdown",
   "id": "c08a8d1c",
   "metadata": {},
   "source": [
    "#### Partie 1 : Créer la classe de base CompteBancaire\n",
    "\n",
    "Définissez une classe CompteBancaire qui représente un compte bancaire de base. La classe doit contenir :\n",
    "\n",
    "- Un attribut titulaire pour le nom du titulaire du compte.\n",
    "\n",
    "- Un attribut solde initialisé à 0.\n",
    "\n",
    "- Une méthode __init__(self, titulaire) pour initialiser le compte.\n",
    "\n",
    "- Une méthode depot(self, montant) pour ajouter un montant au solde.\n",
    "\n",
    "- Une méthode retrait(self, montant) pour retirer un montant du solde. Si le montant est supérieur au solde, imprimez \"Solde insuffisant\".\n",
    "\n",
    "- Une méthode afficher_solde(self) pour afficher le solde du compte."
   ]
  },
  {
   "cell_type": "markdown",
   "id": "7eabab3c",
   "metadata": {},
   "source": [
    "#### Partie 2 : Créer les classes dérivées CompteEpargne et CompteCourant\n",
    "\n",
    "Créez une classe CompteEpargne qui hérite de CompteBancaire. Cette classe doit :\n",
    "\n",
    "- Ajouter un attribut taux_interet.\n",
    "\n",
    "- Surcharger la méthode __init__ pour initialiser le titulaire, le solde (facultatif) et le taux_interet.\n",
    "\n",
    "- Ajouter une méthode ajouter_interets(self) qui augmente le solde du compte en fonction du taux d'intérêt.\n",
    "\n",
    "Créez une classe CompteCourant qui hérite également de CompteBancaire. Cette classe doit :\n",
    "\n",
    "- Ajouter un attribut decouvert_max (le montant maximal de découvert autorisé).\n",
    "\n",
    "- Surcharger la méthode __init__ pour initialiser le titulaire, le solde (facultatif) et le decouvert_max.\n",
    "\n",
    "- Surcharger la méthode retrait(self, montant) pour permettre le retrait même si cela fait passer le solde en dessous de 0, sans dépasser decouvert_max"
   ]
  },
  {
   "cell_type": "markdown",
   "id": "0b15d049",
   "metadata": {},
   "source": [
    "#### Partie 3 : Tester votre système\n",
    "\n",
    "- Créez une instance de CompteEpargne avec un taux d'intérêt.\n",
    "\n",
    "- Effectuez des dépôts, des retraits, et ajoutez des intérêts, puis affichez le solde.\n",
    "\n",
    "- Créez une instance de CompteCourant avec un découvert maximal autorisé.\n",
    "\n",
    "- Effectuez des dépôts et des retraits (y compris des retraits qui utilisent le découvert), puis affichez le solde."
   ]
  },
  {
   "cell_type": "code",
   "execution_count": null,
   "id": "d8640a30",
   "metadata": {},
   "outputs": [],
   "source": [
    "# votre code ici"
   ]
  },
  {
   "cell_type": "code",
   "execution_count": null,
   "id": "eaa85767",
   "metadata": {},
   "outputs": [],
   "source": [
    "# votre code ici"
   ]
  },
  {
   "cell_type": "code",
   "execution_count": null,
   "id": "9857dbba",
   "metadata": {},
   "outputs": [],
   "source": [
    "# votre code ici"
   ]
  },
  {
   "cell_type": "code",
   "execution_count": null,
   "id": "cdb51318",
   "metadata": {},
   "outputs": [],
   "source": [
    "# votre code ici"
   ]
  },
  {
   "cell_type": "code",
   "execution_count": null,
   "id": "5459b8b1",
   "metadata": {},
   "outputs": [],
   "source": [
    "# votre code ici"
   ]
  }
 ],
 "metadata": {
  "kernelspec": {
   "display_name": "Python 3 (ipykernel)",
   "language": "python",
   "name": "python3"
  },
  "language_info": {
   "codemirror_mode": {
    "name": "ipython",
    "version": 3
   },
   "file_extension": ".py",
   "mimetype": "text/x-python",
   "name": "python",
   "nbconvert_exporter": "python",
   "pygments_lexer": "ipython3",
   "version": "3.8.10"
  },
  "vscode": {
   "interpreter": {
    "hash": "369f2c481f4da34e4445cda3fffd2e751bd1c4d706f27375911949ba6bb62e1c"
   }
  }
 },
 "nbformat": 4,
 "nbformat_minor": 5
}
