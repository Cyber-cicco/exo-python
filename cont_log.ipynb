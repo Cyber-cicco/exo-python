{
 "cells": [
  {
   "cell_type": "markdown",
   "id": "4649f239",
   "metadata": {},
   "source": [
    "### Les contrôles logiques\n",
    "\n",
    "Appliqués à deux objets, les opérateurs de comparaison renvoient un bool."
   ]
  },
  {
   "cell_type": "markdown",
   "id": "7e8f6c6b",
   "metadata": {},
   "source": [
    "- **==** égal et **!=** non-égal\n",
    "\n",
    "<span style=\"color: red\">/!\\ Ne pas confondre l'assignement de valeur \"**=**\" </span>"
   ]
  },
  {
   "cell_type": "code",
   "execution_count": null,
   "id": "d20bda36",
   "metadata": {},
   "outputs": [],
   "source": [
    "1 == 1 # renvoie Vrai (True)"
   ]
  },
  {
   "cell_type": "code",
   "execution_count": null,
   "id": "7561a361",
   "metadata": {},
   "outputs": [],
   "source": [
    "1 == 3 # renvoie Faux (False)"
   ]
  },
  {
   "cell_type": "code",
   "execution_count": null,
   "id": "638fe058",
   "metadata": {},
   "outputs": [],
   "source": [
    "1 != 1"
   ]
  },
  {
   "cell_type": "code",
   "execution_count": null,
   "id": "77fdbddb",
   "metadata": {},
   "outputs": [],
   "source": [
    "1 != 3"
   ]
  },
  {
   "cell_type": "markdown",
   "id": "2682832f",
   "metadata": {},
   "source": [
    "- **<** inférieur et **>** supérieur"
   ]
  },
  {
   "cell_type": "code",
   "execution_count": null,
   "id": "d4dc1670",
   "metadata": {},
   "outputs": [],
   "source": [
    "1 < 3"
   ]
  },
  {
   "cell_type": "code",
   "execution_count": null,
   "id": "6afaab0d",
   "metadata": {},
   "outputs": [],
   "source": [
    "1 < 1"
   ]
  },
  {
   "cell_type": "markdown",
   "id": "b3cb44a9",
   "metadata": {},
   "source": [
    "- **<=** inférieur ou égal et **>=** supérieur ou égal"
   ]
  },
  {
   "cell_type": "code",
   "execution_count": null,
   "id": "2f433675",
   "metadata": {},
   "outputs": [],
   "source": [
    "1 <= 3"
   ]
  },
  {
   "cell_type": "code",
   "execution_count": null,
   "id": "8a3d98cd",
   "metadata": {},
   "outputs": [],
   "source": [
    "1 <= 1"
   ]
  },
  {
   "cell_type": "code",
   "execution_count": null,
   "id": "8aef540b",
   "metadata": {},
   "outputs": [],
   "source": [
    "1 <= 0"
   ]
  },
  {
   "cell_type": "markdown",
   "id": "4a940aa4",
   "metadata": {},
   "source": [
    "Les opérateurs de comparaisons peuvent être appliqués sur d'autres types que les types numériques :"
   ]
  },
  {
   "cell_type": "code",
   "execution_count": null,
   "id": "320c77cd",
   "metadata": {},
   "outputs": [],
   "source": [
    "'abc' < 'abcd' # comparaison des longeurs"
   ]
  },
  {
   "cell_type": "markdown",
   "id": "0f808ef9",
   "metadata": {},
   "source": [
    "#### Opérateurs booléens\n",
    "Opérateurs booléens pour combiner des valeurs booléennes et ainsi ajouter une couche de logique.\n",
    "- **and**"
   ]
  },
  {
   "cell_type": "code",
   "execution_count": 37,
   "id": "82f876a1",
   "metadata": {},
   "outputs": [],
   "source": [
    "x = 3\n",
    "y = 4\n",
    "if x == 4 and y == 4:\n",
    "    print('x ET y sont égal à 4')"
   ]
  },
  {
   "cell_type": "code",
   "execution_count": null,
   "id": "e3804df0",
   "metadata": {},
   "outputs": [],
   "source": [
    "True and False"
   ]
  },
  {
   "cell_type": "code",
   "execution_count": null,
   "id": "19414712",
   "metadata": {},
   "outputs": [],
   "source": [
    "True and True"
   ]
  },
  {
   "cell_type": "markdown",
   "id": "54186b44",
   "metadata": {},
   "source": [
    "- **or**"
   ]
  },
  {
   "cell_type": "code",
   "execution_count": null,
   "id": "23add0c9",
   "metadata": {},
   "outputs": [],
   "source": [
    "True or False"
   ]
  },
  {
   "cell_type": "markdown",
   "id": "caaccb68",
   "metadata": {},
   "source": [
    "- **not**"
   ]
  },
  {
   "cell_type": "code",
   "execution_count": null,
   "id": "1c477d9a",
   "metadata": {},
   "outputs": [],
   "source": [
    "not True"
   ]
  },
  {
   "cell_type": "code",
   "execution_count": null,
   "id": "a172333d",
   "metadata": {},
   "outputs": [],
   "source": [
    "not False"
   ]
  },
  {
   "cell_type": "markdown",
   "id": "5fca5f5f",
   "metadata": {},
   "source": [
    "Grâce à ces opérateurs booléens, il est possible de choisir d'exécuter différentes lignes de codes suivant les situations au sein de notre programme. L'un des exemples les plus simples est l'utilisation de if - else.\n",
    "\n",
    "if, else suit une condition logique\n",
    "\n",
    "SI (comparaison logique) action conditionnelle 1, SINON action\n",
    "\n",
    "if, elif, else suit une ou plusieurs condition logique\n",
    "\n",
    "SI (comparaison logique 1) action conditionnelle 1, OU SI (comparaison logique 2) action conditionnelle 2, SINON action\n",
    "\n",
    "Si le if est résolu, le elif et le else ne sont pas executer. Si le if n'est pas résolu, alors on teste la condition du elif. Si le elif est résolu, else n'est pas executé, sinon le else est executé.\n",
    "\n",
    "Vous pouvez intégré autant de elif que vous souhaitez. Ils sont alors tester dans l'ordre d'apparition."
   ]
  },
  {
   "cell_type": "code",
   "execution_count": null,
   "id": "cb5fd7c0",
   "metadata": {},
   "outputs": [],
   "source": [
    "a = 3\n",
    "\n",
    "if a > 2:  # Evaluation du booleen (a > 2)\n",
    "    print(\"a est supérieur à 2 !\")\n",
    "else:\n",
    "    print(\"a n'est pas supérieur à 2 !\")\n",
    "    \n",
    "# dans cet exemple, la ligne de code du if est executée et la ligne de code du else n'est pas executée"
   ]
  },
  {
   "cell_type": "markdown",
   "id": "b59eea15",
   "metadata": {},
   "source": [
    "Essayez de modifier la valeur de **a** pour observer le comportement de l'extrait de code précédent.\n",
    "\n",
    "Comme énoné précedemment, if - else accepte aussi un troisième membre : elif. Il permet d'évaluer une deuxième condition, mais seulement dans le cas où la première condition n'est pas vraie."
   ]
  },
  {
   "cell_type": "code",
   "execution_count": null,
   "id": "6be4817a",
   "metadata": {},
   "outputs": [],
   "source": [
    "a = 4\n",
    "\n",
    "if a < 3:\n",
    "    print (\"a est strictement inférieur à 3 !\")\n",
    "elif a == 3 :  # Cette condition n'est evaluee que si la premiere evaluation est fausse\n",
    "    print(\"a est égal à 3 !\")\n",
    "elif a < 6:\n",
    "    print(\"a est strictement inférieur à 6\")\n",
    "else :\n",
    "    print(\"a est supérieur ou égal à 6 !\")"
   ]
  },
  {
   "cell_type": "markdown",
   "id": "b65d7138",
   "metadata": {},
   "source": [
    "#### <span style=\"color: green\">Exercice sur les contrôleurs logiques</span>"
   ]
  },
  {
   "cell_type": "markdown",
   "id": "ab1732ee",
   "metadata": {},
   "source": [
    "Convertissez une température fournie en degrés Celsius ou Fahrenheit en l'autre unité.\n",
    "\n",
    "Dans la cellule ci-dessous, deux variables sont définies : \n",
    "- **temperature** qui contiendra un int (chiffre entier) représentant la température à convertir, et \n",
    "- **unit** qui contiendra l'unité de la température à convertir (\"C\", \"Celsius\", \"F\", \"Fahrenheit\" sont des valeurs possibles)\n",
    "\n",
    "Utilisez des contrôleurs logiques pour convertir ces variables dans la deuxième unité.\n",
    "\n",
    "L'équation de conversion est la suivante : $\\frac{C}{5} = \\frac{F-32}{9}$"
   ]
  },
  {
   "cell_type": "code",
   "execution_count": 45,
   "id": "24912a15",
   "metadata": {},
   "outputs": [],
   "source": [
    "# votre code ici"
   ]
  }
 ],
 "metadata": {
  "kernelspec": {
   "display_name": "Python 3 (ipykernel)",
   "language": "python",
   "name": "python3"
  },
  "language_info": {
   "codemirror_mode": {
    "name": "ipython",
    "version": 3
   },
   "file_extension": ".py",
   "mimetype": "text/x-python",
   "name": "python",
   "nbconvert_exporter": "python",
   "pygments_lexer": "ipython3",
   "version": "3.8.10"
  },
  "vscode": {
   "interpreter": {
    "hash": "369f2c481f4da34e4445cda3fffd2e751bd1c4d706f27375911949ba6bb62e1c"
   }
  }
 },
 "nbformat": 4,
 "nbformat_minor": 5
}
