{
 "cells": [
  {
   "cell_type": "markdown",
   "metadata": {},
   "source": [
    "### <span style=\"color: green\">Exercice de synthèse</span>"
   ]
  },
  {
   "cell_type": "markdown",
   "id": "ea0bc328",
   "metadata": {},
   "source": [
    "C'est tout à fait normal si vous mettez du temps à comprendre comment imbriquer et utiliser le code. Vous allez tomber sur des erreurs. Pour progresser, il faut essayer de comprendre l'erreur.\n",
    "\n",
    "Pour cela, plusieurs possibilités:\n",
    "- premierement: Il faut lire l'erreur: **ValueError** est une erreur de Valeur. **TypeError** est une erreur de type. Les mots clefs des erreurs vous donnes déja des indications sur l'endroit ou vous devez débugger votre code.\n",
    "- deuxiemement: Vous pouvez (devez en réalité) copier votre erreur sur Google. De nombreux développeur ont déja rencontré l'erreur avant vous et des solutions sont déja disponibles, notamment sur le site **Stackoverflow**\n",
    "- troisement: utiliser chatGPT. chatGPT, même s'il n'est pas à jour dans sa version free, vous donnera de bonne base de correction. Demander lui d'expliquer ce qu'il pour ne pas reproduire des morceaux de code sans les comprendre.\n",
    "\n",
    "Et le plus important, n'oubliez pas que **NOUS SOMMES LA** pour vous accompagner. Contacter nous pour des conseils ou des lives et pair codings à nos cotés. Nous nous ferrons un plaisir de passer du temps avec vous et d'échanger sur vos problématiques."
   ]
  },
  {
   "cell_type": "markdown",
   "metadata": {},
   "source": [
    "##### Exercices\n",
    "\n",
    "Créez une calculatrice en Python !\n",
    "\n",
    "Créez une calculatrice qui accepte en entrée une chaîne de caractère contenant des opérations simples du type \"7+3\".\n",
    "\n",
    "Vous pouvez utiliser la fonction input() afin d'obtenir une saisie de la part de l'utilisateur.\n",
    "\n",
    "La calculatrice doit rester disponible tant que l'utilisateur le souhaite.\n",
    "\n",
    "Exemple d'utilisation de la calculatrice :\n",
    "```\n",
    "Bienvenue sur la calculatrice Python!\n",
    "Entrez votre premier nombre :\n",
    "6\n",
    "Entrez votre second nombre :\n",
    "3\n",
    "Entrez l'opération à effectuer (acceptés : '+', '-', '*', '/') :\n",
    "*\n",
    "Résultat: 18\n",
    "Voulez-vous continuer ? (O/N)\n",
    "O\n",
    "Entrez votre premier nombre :\n",
    "15\n",
    "Entrez votre second nombre :\n",
    "4\n",
    "Entrez l'opération à effectuer (acceptés : '+', '-', '*', '/') :\n",
    "+\n",
    "19\n",
    "Voulez-vous continuer ? (O/N)\n",
    "N\n",
    "Au revoir.\n",
    "```"
   ]
  },
  {
   "cell_type": "code",
   "execution_count": 179,
   "metadata": {},
   "outputs": [
    {
     "name": "stdout",
     "output_type": "stream",
     "text": [
      "BEFORE CHANGE TYPE 1 <class 'str'>\n",
      "AFTER CHANGE TYPE 1 <class 'int'>\n"
     ]
    }
   ],
   "source": [
    "# Exemple d'utilisation de la fonction input\n",
    "nombre = input(\"Entrez un nombre\")\n",
    "print('BEFORE CHANGE TYPE', nombre, type(nombre))\n",
    "nombre = int(nombre)\n",
    "print('AFTER CHANGE TYPE', nombre, type(nombre))"
   ]
  },
  {
   "cell_type": "code",
   "execution_count": 96,
   "metadata": {},
   "outputs": [],
   "source": [
    "# votre code ici"
   ]
  },
  {
   "cell_type": "code",
   "execution_count": null,
   "id": "46df2a3b",
   "metadata": {},
   "outputs": [],
   "source": [
    "# votre code ici"
   ]
  },
  {
   "cell_type": "code",
   "execution_count": null,
   "id": "2a6d4d65",
   "metadata": {},
   "outputs": [],
   "source": [
    "# votre code ici"
   ]
  }
 ],
 "metadata": {
  "kernelspec": {
   "display_name": "Python 3",
   "language": "python",
   "name": "python3"
  },
  "language_info": {
   "codemirror_mode": {
    "name": "ipython",
    "version": 3
   },
   "file_extension": ".py",
   "mimetype": "text/x-python",
   "name": "python",
   "nbconvert_exporter": "python",
   "pygments_lexer": "ipython3",
   "version": "3.10.9"
  },
  "vscode": {
   "interpreter": {
    "hash": "369f2c481f4da34e4445cda3fffd2e751bd1c4d706f27375911949ba6bb62e1c"
   }
  }
 },
 "nbformat": 4,
 "nbformat_minor": 5
}
