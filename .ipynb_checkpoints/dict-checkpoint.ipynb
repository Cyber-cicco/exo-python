{
 "cells": [
  {
   "cell_type": "markdown",
   "id": "13695593",
   "metadata": {},
   "source": [
    "### Les dictionnaires"
   ]
  },
  {
   "cell_type": "markdown",
   "id": "5ca13a9c",
   "metadata": {},
   "source": [
    "Un dictionnaire est une variable de type dict qui a pour particularité de contenir un ensemble de clef-valeur. chaque clef du dictionnaire contient une valeur, qui peut prendre nimporte quelle type de variable possible"
   ]
  },
  {
   "cell_type": "code",
   "execution_count": null,
   "id": "6de12ca2",
   "metadata": {},
   "outputs": [],
   "source": [
    "my_dict = {'clef_1': 1}\n",
    "my_dict"
   ]
  },
  {
   "cell_type": "code",
   "execution_count": null,
   "id": "08ae6bf2",
   "metadata": {},
   "outputs": [],
   "source": [
    "type(my_dict)"
   ]
  },
  {
   "cell_type": "markdown",
   "id": "7db9cafd",
   "metadata": {},
   "source": [
    "Il est possible de mélanger les types de valeurs au sein d'une même liste :"
   ]
  },
  {
   "cell_type": "code",
   "execution_count": null,
   "id": "0cc9de3f",
   "metadata": {},
   "outputs": [],
   "source": [
    "my_dict = {'clef_1': 1, 'clef_2': [1, 2, 3], 'clef_3': 'Nom', 'clef_4': 2.3, 'clef_5': {'url': 'MON_URL'}}\n",
    "my_dict"
   ]
  },
  {
   "cell_type": "markdown",
   "id": "3707eced",
   "metadata": {},
   "source": [
    "Il existe plusieurs moyens d'accéder aux éléments d'un dictionnaire. L'accès direct se fait via des crochets `[]` au sein desquels nous précisions la clef souhaité de l'élèment auquel on souhaite accéder."
   ]
  },
  {
   "cell_type": "code",
   "execution_count": null,
   "id": "2f55ab1c",
   "metadata": {},
   "outputs": [],
   "source": [
    "my_dict = {'clef_1': 1, 'clef_2': [1, 2, 3], 'clef_3': 'Nom', 'clef_4': True, 'clef_5': {'url': 'MON_URL'}}\n",
    "my_dict['clef_2']  # accès à la clef 'clef_2'"
   ]
  },
  {
   "cell_type": "code",
   "execution_count": null,
   "id": "320d2edc",
   "metadata": {},
   "outputs": [],
   "source": [
    "my_dict.get('clef_2') # autre méthode pour obtenir une valeur, la méthode .get(<nom_clef>)"
   ]
  },
  {
   "cell_type": "markdown",
   "id": "a10a0ad2",
   "metadata": {},
   "source": [
    "Vous pouvez acceder au clef valeur d'un dictionnaire avec .items(). Cela sera utilse lorsqu'on parcours un dictionnaire avec une boucle. La méthode .items() renvoit une liste de tuples contenant les deux valeurs"
   ]
  },
  {
   "cell_type": "code",
   "execution_count": null,
   "id": "51946efe",
   "metadata": {},
   "outputs": [],
   "source": [
    "my_dict.items()"
   ]
  },
  {
   "cell_type": "markdown",
   "id": "f5bc73e3",
   "metadata": {},
   "source": [
    "Si vous souhaitez acceder seulement aux clefs ou aux valeurs du dictionnaire, les méthodes .keys() et .values() sont faites pour vous. Cela renvoie une liste."
   ]
  },
  {
   "cell_type": "code",
   "execution_count": null,
   "id": "82099a27",
   "metadata": {},
   "outputs": [],
   "source": [
    "print('KEYS: ', my_dict.keys())\n",
    "print('VALUES: ', my_dict.values())"
   ]
  },
  {
   "cell_type": "markdown",
   "id": "a4e65b39",
   "metadata": {},
   "source": [
    "Il est possible d'ajouter une nouvelle clef au dictionnaire"
   ]
  },
  {
   "cell_type": "code",
   "execution_count": null,
   "id": "7698dda7",
   "metadata": {},
   "outputs": [],
   "source": [
    "my_dict['new_key'] = 'Nouvelle valeur'\n",
    "print(my_dict)"
   ]
  },
  {
   "cell_type": "markdown",
   "id": "b716d6b5",
   "metadata": {},
   "source": [
    "Il est également possible de mettre à jour une clef existante"
   ]
  },
  {
   "cell_type": "code",
   "execution_count": null,
   "id": "b4599f0b",
   "metadata": {},
   "outputs": [],
   "source": [
    "my_dict['clef_1'] = 10\n",
    "print(my_dict)"
   ]
  },
  {
   "cell_type": "markdown",
   "id": "d3f24ee3",
   "metadata": {},
   "source": [
    "Vous pouvez également supprimer une paire clef-valeur avec `del`"
   ]
  },
  {
   "cell_type": "code",
   "execution_count": null,
   "id": "3f138338",
   "metadata": {},
   "outputs": [],
   "source": [
    "del(my_dict['new_key'])\n",
    "print(my_dict)"
   ]
  },
  {
   "cell_type": "markdown",
   "id": "beda205a",
   "metadata": {},
   "source": [
    "Meme si cela est peu commun, vous pouvez créer un dictionnaire avec des clefs index en int, et y acceder comme avec une clef normal en chaine de caractère."
   ]
  },
  {
   "cell_type": "code",
   "execution_count": null,
   "id": "ad99d50d",
   "metadata": {},
   "outputs": [],
   "source": [
    "my_dict_index = {0: 'valeur_1', 1: 'valeur_2'}\n",
    "print(my_dict_index[0])"
   ]
  },
  {
   "cell_type": "markdown",
   "id": "6a1c7209",
   "metadata": {},
   "source": [
    "Si vous essayez d'obtenir une valeur par une clef qui n'existe pas, vous obtiendrez une erreur de type **KeyError**"
   ]
  },
  {
   "cell_type": "markdown",
   "id": "24ad6177",
   "metadata": {},
   "source": [
    "Vous pouvez egalement mettre à jour plusieurs dictionnaire en mergant les dictionnaire. Si la clef existe déja dans le dictionnaire 1, et qu'une clef dans le dictionnaire 2 porte le meme nom, la valeur sera mise à jour. Si la clef n'existe n'existe pas dans le dictionnaire 1, la paire clef-valeur sera ajouter au dictionnaire 1"
   ]
  },
  {
   "cell_type": "code",
   "execution_count": null,
   "id": "9e2c5e8c",
   "metadata": {},
   "outputs": [],
   "source": [
    "d1 = {'a': 10, 'b': 20, 'c': 30}\n",
    "d2 = {'b': 200, 'd': 400}\n",
    "print('BEFORE: ', d1)\n",
    "d1.update(d2)\n",
    "print('AFTER: ', d1)"
   ]
  },
  {
   "cell_type": "code",
   "execution_count": null,
   "id": "df4d516d",
   "metadata": {},
   "outputs": [],
   "source": [
    "d1.update(a=11) # mettre à jour une clef\n",
    "print(d1)"
   ]
  },
  {
   "cell_type": "code",
   "execution_count": null,
   "id": "dcdeb0ad",
   "metadata": {},
   "outputs": [],
   "source": [
    "d1.update({'a': 12})\n",
    "print(d1)"
   ]
  },
  {
   "cell_type": "markdown",
   "id": "53f4e5d8",
   "metadata": {},
   "source": [
    "#### <span style=\"color: green\">Exercice sur les dictionnaires</span>"
   ]
  },
  {
   "cell_type": "markdown",
   "id": "a592f54f",
   "metadata": {},
   "source": [
    "Utilisez une dictionnaire pour stocker manuellement les jours de la semaine avec comme clef 'Jour numero <>' et en valeur le nom du jour.\n",
    "\n",
    "Exemple: {'Jour numero 1': 'Lundi'}\n",
    "\n",
    "Utilisez la fonction print() pour afficher :\n",
    "\n",
    "- tous les jours\n",
    "- le jour numéro 3\n",
    "\n",
    "Supprimer ensuite les paires clef-valeur pour les jours samedi et dimanche.\n",
    "\n",
    "Remplacer ces clefs par un dictionnaire de nouvelles clefs {'Jour repos 1': 'Samedi', 'Jour repos 2': 'Dimanche'}"
   ]
  },
  {
   "cell_type": "code",
   "execution_count": null,
   "id": "bb2e6dfe",
   "metadata": {},
   "outputs": [],
   "source": [
    "# votre code ici"
   ]
  }
 ],
 "metadata": {
  "kernelspec": {
   "display_name": "Python 3",
   "language": "python",
   "name": "python3"
  },
  "language_info": {
   "codemirror_mode": {
    "name": "ipython",
    "version": 3
   },
   "file_extension": ".py",
   "mimetype": "text/x-python",
   "name": "python",
   "nbconvert_exporter": "python",
   "pygments_lexer": "ipython3",
   "version": "3.10.9"
  },
  "vscode": {
   "interpreter": {
    "hash": "369f2c481f4da34e4445cda3fffd2e751bd1c4d706f27375911949ba6bb62e1c"
   }
  }
 },
 "nbformat": 4,
 "nbformat_minor": 5
}
