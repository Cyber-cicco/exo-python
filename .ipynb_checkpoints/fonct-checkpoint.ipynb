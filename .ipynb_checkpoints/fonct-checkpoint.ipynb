{
 "cells": [
  {
   "cell_type": "markdown",
   "metadata": {},
   "source": [
    "### Les fonctions"
   ]
  },
  {
   "cell_type": "markdown",
   "metadata": {},
   "source": [
    "Définition et utilisation de fonctions"
   ]
  },
  {
   "cell_type": "markdown",
   "metadata": {},
   "source": [
    "Une fonction est un morceau de code réutilisable. Pour déclarer une fonction, on utilise le mot-clé **def**, suivi du nom de la fonction. Entre paranthèses, on indique ensuite les paramètres applicables à la fonction. Notez que la tabulation avant le corps de la fonction est important : c'est comme cela que Python détermine la fin de la fonction.\n",
    "\n",
    "Exemple :"
   ]
  },
  {
   "cell_type": "code",
   "execution_count": 153,
   "metadata": {},
   "outputs": [],
   "source": [
    "def additionner_nombre(number_1, number_2):\n",
    "    result = number_1 + number_2\n",
    "    return result\n",
    "\n",
    "# Nous avons defini une fonction nommee \"add\", qui prend comme \n",
    "# parametres \"a\" et \"b\". ELle execute le code \"a + b\" et renvoie \n",
    "# la valeur obtenue"
   ]
  },
  {
   "cell_type": "code",
   "execution_count": null,
   "metadata": {},
   "outputs": [],
   "source": [
    "nombre = additionner_nombre(3, 8)  # Pour appeler la fonction\n",
    "print(nombre)"
   ]
  },
  {
   "cell_type": "markdown",
   "id": "9121d3c3",
   "metadata": {},
   "source": [
    "Vous pouvez egalement **typer** et **documenter** votre fonction, cela permet d'avoir des informations en terme de maintenabilité et d'informations attendue et renvoyée. La documentation se fait par un docstring `\"\"\" INSERER ICI LA DOCUMENTATION \"\"\"` et les type par les type built-in de python précéder des `:` pour les parametre et de `->` pour le return.\n",
    "\n",
    "Ici **Union** permet de dire **soit** un int **soit** un float.\n",
    "\n",
    "Vous pouvez également préciser un seul type."
   ]
  },
  {
   "cell_type": "code",
   "execution_count": 156,
   "id": "384f0796",
   "metadata": {},
   "outputs": [],
   "source": [
    "from typing import Union\n",
    "def additionner_nombre(number_1: Union[int, float], number_2: Union[int, float]) -> Union[float, int]:\n",
    "    \"\"\"Fonction permettant d'ajouter deux nombre et de renvoyer le résultat\n",
    "\n",
    "    Parameters\n",
    "    ----------\n",
    "    number_1 : Union[int, float]\n",
    "        Premier nombre. Peut être un int ou un float\n",
    "    number_2 : Union[int, float]\n",
    "        Deuxième nombre. Peut être un int ou un float\n",
    "\n",
    "    Returns\n",
    "    -------\n",
    "    Union[float, int]\n",
    "        Résultat de l'addition. Peut être un int ou un float\n",
    "    \"\"\"\n",
    "    result = number_1 + number_2\n",
    "    return result"
   ]
  },
  {
   "cell_type": "markdown",
   "metadata": {},
   "source": [
    "Les fonctions sont très utiles pour éviter de réinventer la roue lors de chaque nouveau script, mais aussi au sein même d'un script."
   ]
  },
  {
   "cell_type": "markdown",
   "metadata": {},
   "source": [
    "Python propose de nombreuses fonctions par défaut, comme par exemple pour les chaînes de caractères :"
   ]
  },
  {
   "cell_type": "code",
   "execution_count": null,
   "metadata": {},
   "outputs": [],
   "source": [
    "my_string = \"Hello world!\"\n",
    "my_string.upper()  # la fonction upper transforme tous les caracteres en majuscules"
   ]
  },
  {
   "cell_type": "code",
   "execution_count": null,
   "metadata": {},
   "outputs": [],
   "source": [
    "my_string.replace(\"l\", \"t\")  # remplace une str par une autre"
   ]
  },
  {
   "cell_type": "markdown",
   "metadata": {},
   "source": [
    "Mais aussi sur les nombres :"
   ]
  },
  {
   "cell_type": "code",
   "execution_count": null,
   "metadata": {},
   "outputs": [],
   "source": [
    "round(1.7)  # permet d'arrondir"
   ]
  },
  {
   "cell_type": "markdown",
   "metadata": {},
   "source": [
    "Ou sur les listes :"
   ]
  },
  {
   "cell_type": "code",
   "execution_count": null,
   "metadata": {},
   "outputs": [],
   "source": [
    "my_list = [1, 2, 3, 4, 3, 2, 1]\n",
    "max(my_list)"
   ]
  },
  {
   "cell_type": "code",
   "execution_count": null,
   "metadata": {
    "scrolled": true
   },
   "outputs": [],
   "source": [
    "sum(my_list)"
   ]
  },
  {
   "cell_type": "code",
   "execution_count": null,
   "metadata": {},
   "outputs": [],
   "source": [
    "my_list = ['a', 'b', 'c', 'd', 'e', 'f']\n",
    "my_list.index('d')  # recherche une valeur dans la liste et renvoie son index"
   ]
  },
  {
   "cell_type": "code",
   "execution_count": null,
   "id": "abc9e1e4",
   "metadata": {},
   "outputs": [],
   "source": [
    "liste_var = [1, 2]\n",
    "liste_var.append('Joachim') # la fonction append permet d'ajouter un élément à une liste\n",
    "print(liste_var)"
   ]
  },
  {
   "cell_type": "markdown",
   "metadata": {},
   "source": [
    "La fonction **help** permet d'afficher la documentation d'une autre fonction. Sur Jupyter notebook, on peut afficher cette documentation en se positionnant sur la fonction et en utilisant shift + tab."
   ]
  },
  {
   "cell_type": "code",
   "execution_count": null,
   "metadata": {},
   "outputs": [],
   "source": [
    "help(round)"
   ]
  },
  {
   "cell_type": "code",
   "execution_count": null,
   "id": "7c9f1a5d",
   "metadata": {},
   "outputs": [],
   "source": [
    "# regardons la documentation de notre fonction personnelle\n",
    "help(additionner_nombre)"
   ]
  },
  {
   "cell_type": "markdown",
   "metadata": {},
   "source": [
    "Il existe aussi de nombreuses librairies codées par des développeurs qui permettent d'effectuer de nombreuses actions. Nous avons par exemple précédemment utilisé la fonction *randint()* de la librairie numpy pour générer un nombre aléatoire.\n",
    "\n",
    "Pour importer une librairie, on utilise le mot clé **import** :"
   ]
  },
  {
   "cell_type": "code",
   "execution_count": null,
   "metadata": {},
   "outputs": [],
   "source": [
    "import numpy\n",
    "numpy.random.randint(10)"
   ]
  },
  {
   "cell_type": "markdown",
   "metadata": {},
   "source": [
    "On peut aussi importer une fonction directement en utilisant le mot-clé **from** :"
   ]
  },
  {
   "cell_type": "code",
   "execution_count": null,
   "metadata": {},
   "outputs": [],
   "source": [
    "from math import sqrt\n",
    "sqrt(9)"
   ]
  },
  {
   "cell_type": "markdown",
   "metadata": {},
   "source": [
    "Et donner un nom raccourci avec le mot-clé **as** :"
   ]
  },
  {
   "cell_type": "code",
   "execution_count": null,
   "metadata": {},
   "outputs": [],
   "source": [
    "import numpy as np\n",
    "np.random.randint(10)"
   ]
  },
  {
   "cell_type": "markdown",
   "metadata": {},
   "source": [
    "Des exemples de librairies connues :\n",
    "- **math**, **scipy** pour le calcul scientifique\n",
    "- **numpy**, **pandas** pour la manipulation de données\n",
    "- **sklearn** pour le machine learning"
   ]
  },
  {
   "cell_type": "markdown",
   "metadata": {},
   "source": [
    "Vous ne pouvez pas deviner tout seul quelles fonctions sont disponibles et comment il faut les utiliser pour chaque librairie. Pour progresser dans leur utilisation, il faut :\n",
    "- Pratiquer\n",
    "- Utiliser Google : lire la documentation des fonctions et des packages\n",
    "- Utiliser ChatGPT pour lister les fonctions disponibles ou demander un début de code\n",
    "\n",
    "Par exemple, le meilleur moyen de connaître les fonctions disponibles dans sklearn est de visiter leur documentation : https://scikit-learn.org/stable/user_guide.html"
   ]
  },
  {
   "cell_type": "markdown",
   "metadata": {},
   "source": [
    "#### <span style=\"color: green\">Exercice sur les fonctions</span>"
   ]
  },
  {
   "cell_type": "markdown",
   "metadata": {},
   "source": [
    "Définissez une fonction qui renvoie l'inverse d'une chaîne de caractères passée en paramètre."
   ]
  },
  {
   "cell_type": "code",
   "execution_count": 174,
   "metadata": {},
   "outputs": [],
   "source": [
    "chaine = 'Bienvenue dans le monde de python'"
   ]
  },
  {
   "cell_type": "code",
   "execution_count": null,
   "metadata": {},
   "outputs": [],
   "source": [
    "# votre code ici\n",
    "# resultat attendu: nohtyp ed ednom el snad eunevneiB"
   ]
  },
  {
   "cell_type": "markdown",
   "metadata": {},
   "source": [
    "Définissez et utilisez une fonction qui renvoie la sigmoide d'un nombre passé en paramètre.\n",
    "\n",
    "Astuce : vous pouvez utilisez une fonction exponentielle de n'importe quelle librairie (cherchez sur internet \"python exponential\") pour calculer la partie exponentielle.\n",
    "\n",
    "Formule de la sigmoide : \n",
    "\n",
    "$$sigmoid(x) = \\frac{1}{1+e^{-x}}$$"
   ]
  },
  {
   "cell_type": "code",
   "execution_count": 94,
   "metadata": {},
   "outputs": [],
   "source": [
    "# votre code ici"
   ]
  },
  {
   "cell_type": "code",
   "execution_count": null,
   "id": "2a6d4d65",
   "metadata": {},
   "outputs": [],
   "source": [
    "# votre code ici"
   ]
  }
 ],
 "metadata": {
  "kernelspec": {
   "display_name": "Python 3",
   "language": "python",
   "name": "python3"
  },
  "language_info": {
   "codemirror_mode": {
    "name": "ipython",
    "version": 3
   },
   "file_extension": ".py",
   "mimetype": "text/x-python",
   "name": "python",
   "nbconvert_exporter": "python",
   "pygments_lexer": "ipython3",
   "version": "3.10.9"
  },
  "vscode": {
   "interpreter": {
    "hash": "369f2c481f4da34e4445cda3fffd2e751bd1c4d706f27375911949ba6bb62e1c"
   }
  }
 },
 "nbformat": 4,
 "nbformat_minor": 5
}
