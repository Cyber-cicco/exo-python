{
 "cells": [
  {
   "cell_type": "markdown",
   "metadata": {},
   "source": [
    "### Les boucles"
   ]
  },
  {
   "cell_type": "markdown",
   "metadata": {},
   "source": [
    "#### while\n",
    "\n",
    "La boucle **while** permet de répéter en boucle l'action **tant que** la condition initiale n'est pas vérifiée.\n",
    "\n",
    "Très utile lorsqu'on ne sait pas combien de temps il faudra répéter une action."
   ]
  },
  {
   "cell_type": "code",
   "execution_count": null,
   "metadata": {},
   "outputs": [],
   "source": [
    "i = 0\n",
    "while i < 5:  # tant que i<5, on parcourt la boucle\n",
    "    print(i)\n",
    "    i = i + 1 # on reaffecte i en \"l'écrasant\""
   ]
  },
  {
   "cell_type": "markdown",
   "metadata": {},
   "source": [
    "<span style=\"color: red\">/!\\ Attention aux boucles infinies.</span>\n",
    "\n",
    "Sur Jupyter vous pouvez utiliser le bouton \"interrompre le noyau\" pour stopper le calcul, sinon en ligne de commande il faut utiliser ctrl + C."
   ]
  },
  {
   "cell_type": "markdown",
   "metadata": {},
   "source": [
    "#### for\n",
    "La boucle **for** permet de répeter l'action pour chacune des variable de la liste (ou plus généralement, de l'itérable) donnée.\n",
    "\n",
    "A chaque tour de la boucle, la variable définie prend la valeur suivante de la liste donnée."
   ]
  },
  {
   "cell_type": "code",
   "execution_count": null,
   "metadata": {},
   "outputs": [],
   "source": [
    "vowel = ['a', 'e', 'i', 'o', 'u', 'y']\n",
    "for letter in vowel:  # pour chaque élément de la liste, on parcout la boucle\n",
    "    print(letter)\n",
    "print('fin')"
   ]
  },
  {
   "cell_type": "markdown",
   "id": "caf91849",
   "metadata": {},
   "source": [
    "ici **letter** peut être remplacer par la déclaration de nimporte quelle variable, par exemple **i**"
   ]
  },
  {
   "cell_type": "code",
   "execution_count": null,
   "id": "5dfe9dce",
   "metadata": {},
   "outputs": [],
   "source": [
    "vowel = ['a', 'e', 'i', 'o', 'u', 'y']\n",
    "for i in vowel:  # pour chaque élément de la liste, on parcout la boucle\n",
    "    print(i)\n",
    "print('fin')"
   ]
  },
  {
   "cell_type": "markdown",
   "metadata": {},
   "source": [
    "*range()* - permet d'itérer jusqu'à un certain nombre (commence à 0, dernier exclus):"
   ]
  },
  {
   "cell_type": "code",
   "execution_count": null,
   "metadata": {},
   "outputs": [],
   "source": [
    "for i in range(2, 5):  # range(0,5) revient à dire [0, 1, 2, 3, 4]\n",
    "    print(i)"
   ]
  },
  {
   "cell_type": "code",
   "execution_count": null,
   "metadata": {},
   "outputs": [],
   "source": [
    "for i in range(10):\n",
    "    print(i)"
   ]
  },
  {
   "cell_type": "markdown",
   "metadata": {},
   "source": [
    "On peut fournir un troisième paramètre à la fonction range: le pas. Si on fourni '-1', on itérera en arrière, si on fourni 2, on sautera un nombre à chaque boucle etc"
   ]
  },
  {
   "cell_type": "code",
   "execution_count": null,
   "metadata": {},
   "outputs": [],
   "source": [
    "for i in range(5, 0, -1):  # range(5, 0, -1) revient à dire [5, 4, 3, 2, 1]\n",
    "    print(i)"
   ]
  },
  {
   "cell_type": "markdown",
   "metadata": {},
   "source": [
    "*enumerate* - permet d'obtenir l'index de l'itération. Autrement dit, un nombre qui commence à 0 et incrémente de 1 à chaque passage de la boucle. Cela peut être utilse notammentsi vous manipuler des indexes"
   ]
  },
  {
   "cell_type": "code",
   "execution_count": 140,
   "id": "d192cc5a",
   "metadata": {},
   "outputs": [],
   "source": [
    "new_liste = ['12', 4, 'Salut', 6.2, {\"key\": \"value\"}]"
   ]
  },
  {
   "cell_type": "code",
   "execution_count": null,
   "metadata": {},
   "outputs": [],
   "source": [
    "for index, var in enumerate(new_liste):\n",
    "    print(\"var\", index, \":\", var)"
   ]
  },
  {
   "cell_type": "markdown",
   "metadata": {},
   "source": [
    "*list comprehensions* - pour les boucles for simples, on peut utiliser un raccourci pour les écrire en une ligne et les affecter à une voyelle."
   ]
  },
  {
   "cell_type": "code",
   "execution_count": null,
   "metadata": {},
   "outputs": [],
   "source": [
    "my_list = [1, 2, 3, 4, 5, 6, 7, 8, 9, 10]\n",
    "my_squared_list = [i ** 2 for i in my_list]\n",
    "# list comprehension. le i est déclarer avant.\n",
    "# ici on ne print pas mais on stock le tout dans une nouvelle variable (une liste egalement)\n",
    "print(my_squared_list)"
   ]
  },
  {
   "cell_type": "markdown",
   "metadata": {},
   "source": [
    "On peut aussi itérer sur un dictionnaire en utilisant sa fonction *.items()*:"
   ]
  },
  {
   "cell_type": "code",
   "execution_count": null,
   "metadata": {},
   "outputs": [],
   "source": [
    "my_dict = {'a': 1, 'b': 2, 'c': 3, 'd': 4}\n",
    "print(my_dict)\n",
    "\n",
    "compteur = 0 # on va ajouter chaue valeur de chaque clef à ce compteur\n",
    "for key, value in my_dict.items():\n",
    "    print('key: ' + key + \", value: \" + str(value))\n",
    "    compteur = compteur + value\n",
    "    print('COMPTEUR EN COURS: ', compteur)\n",
    "    \n",
    "print('COMPTEUR TOTAL: ', compteur)"
   ]
  },
  {
   "cell_type": "markdown",
   "metadata": {},
   "source": [
    "Enfin, il est possible d'imbriquer des boucles :"
   ]
  },
  {
   "cell_type": "code",
   "execution_count": null,
   "metadata": {},
   "outputs": [],
   "source": [
    "for i in range(3):\n",
    "    for j in range(3):\n",
    "        print(\"i:\", i, \"j:\", j)"
   ]
  },
  {
   "cell_type": "markdown",
   "metadata": {},
   "source": [
    "#### <span style=\"color: green\">Exercice sur les boucles</span>"
   ]
  },
  {
   "cell_type": "markdown",
   "metadata": {},
   "source": [
    "Afficher tous les nombres entre 1500 et 2700 (inclus) qui sont à la fois multiples de 5 et de 7.\n",
    "\n",
    "Vous pouvez pour cela utiliser le **modulo** et l'operateur **and**, vue précédemment."
   ]
  },
  {
   "cell_type": "code",
   "execution_count": null,
   "id": "0a689ad9",
   "metadata": {},
   "outputs": [],
   "source": [
    "# votre code ici"
   ]
  },
  {
   "cell_type": "markdown",
   "metadata": {},
   "source": [
    "Utilisez la fonction de numpy randint pour générer un nombre entre 0 et 10 aléatoirement, affecté à i. Affichez ce nombre et recommencez tant que le nombre n'est pas inférieur à 2.\n",
    "\n",
    "Astuces :\n",
    "- randint prend pour paramètres le nombre minimal (inclus), et le nombre maximal (non inclus) qu'il est possible de tirer aléatoirement.\n",
    "- utiliser une boucle while"
   ]
  },
  {
   "cell_type": "code",
   "execution_count": null,
   "metadata": {
    "scrolled": true
   },
   "outputs": [],
   "source": [
    "from numpy.random import randint\n",
    "# Exemple d'utilisation de randint :\n",
    "print(randint(0, 11))"
   ]
  },
  {
   "cell_type": "code",
   "execution_count": null,
   "id": "0eebe08f",
   "metadata": {},
   "outputs": [],
   "source": [
    "# votre code ici"
   ]
  }
 ],
 "metadata": {
  "kernelspec": {
   "display_name": "Python 3",
   "language": "python",
   "name": "python3"
  },
  "language_info": {
   "codemirror_mode": {
    "name": "ipython",
    "version": 3
   },
   "file_extension": ".py",
   "mimetype": "text/x-python",
   "name": "python",
   "nbconvert_exporter": "python",
   "pygments_lexer": "ipython3",
   "version": "3.10.9"
  },
  "vscode": {
   "interpreter": {
    "hash": "369f2c481f4da34e4445cda3fffd2e751bd1c4d706f27375911949ba6bb62e1c"
   }
  }
 },
 "nbformat": 4,
 "nbformat_minor": 5
}
